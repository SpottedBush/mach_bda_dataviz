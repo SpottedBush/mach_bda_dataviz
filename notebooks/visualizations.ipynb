{
 "cells": [
  {
   "cell_type": "markdown",
   "metadata": {},
   "source": [
    "# Pre-processing"
   ]
  },
  {
   "cell_type": "code",
   "execution_count": null,
   "metadata": {},
   "outputs": [],
   "source": [
    "import altair as alt\n",
    "import pandas as pd\n",
    "import numpy as np\n",
    "import matplotlib.pyplot as plt\n",
    "from sklearn.preprocessing import OneHotEncoder\n",
    "from sklearn.preprocessing import OrdinalEncoder\n",
    "\n",
    "PATH_TO_DATA = '../data/'\n",
    "\n",
    "data = pd.read_csv(PATH_TO_DATA + 'churn.csv')\n",
    "data0 = data\n",
    "\n",
    "data.head()\n",
    "data.count()"
   ]
  },
  {
   "cell_type": "markdown",
   "metadata": {},
   "source": [
    "## Filtering"
   ]
  },
  {
   "cell_type": "code",
   "execution_count": null,
   "metadata": {},
   "outputs": [],
   "source": [
    "# data.dropna(inplace=True)\n",
    "data.count()"
   ]
  },
  {
   "cell_type": "code",
   "execution_count": null,
   "metadata": {},
   "outputs": [],
   "source": [
    "#remove negative values\n",
    "data = data[data['days_since_last_login'] >= 0]\n",
    "data['days_since_last_login'].sort_values(ascending=True)\n"
   ]
  },
  {
   "cell_type": "code",
   "execution_count": null,
   "metadata": {},
   "outputs": [],
   "source": [
    "#remove rows with security_no length greater than 7\n",
    "data = data[data['security_no'].str.len() < 8]\n",
    "data['security_no'].str.len().sort_values(ascending=True)"
   ]
  },
  {
   "cell_type": "code",
   "execution_count": null,
   "metadata": {},
   "outputs": [],
   "source": [
    "#remove rows with avg_time_spent less than 0\n",
    "data=data[data['avg_time_spent'] >= 0]\n",
    "data.count()"
   ]
  },
  {
   "cell_type": "code",
   "execution_count": null,
   "metadata": {},
   "outputs": [],
   "source": [
    "#remove rows with avg_transaction_value less than 0\n",
    "data = data[data['avg_frequency_login_days'] != 'Error']\n",
    "data.count()"
   ]
  },
  {
   "cell_type": "code",
   "execution_count": null,
   "metadata": {},
   "outputs": [],
   "source": [
    "#remove rows with avg_transaction_value less than 0\n",
    "data = data[data['points_in_wallet'] >= 0]\n",
    "data.count()"
   ]
  },
  {
   "cell_type": "code",
   "execution_count": null,
   "metadata": {},
   "outputs": [],
   "source": [
    "data = data[data['joined_through_referral'] != '?']\n",
    "data.count()"
   ]
  },
  {
   "cell_type": "markdown",
   "metadata": {},
   "source": [
    "## Normalization"
   ]
  },
  {
   "cell_type": "markdown",
   "metadata": {},
   "source": [
    "### OneHotEncoder"
   ]
  },
  {
   "cell_type": "code",
   "execution_count": null,
   "metadata": {},
   "outputs": [],
   "source": [
    "\n",
    "def apply_one_hot_encoding(df, column_name):\n",
    "\n",
    "    # df.dropna(subset=[column_name], inplace=True)\n",
    "    \n",
    "    column_df = df[[column_name]]\n",
    "    \n",
    "    encoder = OneHotEncoder()\n",
    "    \n",
    "    encoded_column = encoder.fit_transform(column_df)\n",
    "    \n",
    "    encoded_column_array = encoded_column.toarray()\n",
    "    \n",
    "    encoded_df = pd.DataFrame(encoded_column_array, columns=encoder.get_feature_names_out([column_name]))\n",
    "    \n",
    "    encoded_df = pd.concat([df, encoded_df], axis=1)\n",
    "    \n",
    "    encoded_df.drop(column_name, axis=1, inplace=True)\n",
    "    \n",
    "    return encoded_df\n",
    "\n",
    "# data = apply_one_hot_encoding(data, 'joined_through_referral')\n",
    "# data = apply_one_hot_encoding(data, 'used_special_discount')\n",
    "# data = apply_one_hot_encoding(data, 'past_complaint')\n",
    "# data = apply_one_hot_encoding(data, 'complaint_status')\n",
    "# data = apply_one_hot_encoding(data, 'feedback')\n",
    "# data = apply_one_hot_encoding(data, 'internet_option')\n",
    "# data = apply_one_hot_encoding(data, 'membership_category')\n",
    "# data = apply_one_hot_encoding(data, 'preferred_offer_types')\n",
    "data.head()\n"
   ]
  },
  {
   "cell_type": "markdown",
   "metadata": {},
   "source": [
    "### Mapping"
   ]
  },
  {
   "cell_type": "code",
   "execution_count": null,
   "metadata": {},
   "outputs": [],
   "source": [
    "memberships = ['No Membership', 'Basic Membership', 'Silver Membership', 'Gold Membership', 'Platinum Membership', 'Premium Membership']\n",
    "joinded_through_ref = ['No', 'Yes']\n",
    "used_special_discount = ['No', 'Yes']\n",
    "past_complaint = ['No', 'Yes']\n",
    "complaint_stat = ['No Information Available', 'Not Applicable', 'Solved', 'Solved in Follow-up', 'Unsolved']\n",
    "good_feedbacks = ['Products always in Stock', 'Quality Customer Care', 'Reasonable Price', 'User Friendly Website']\n",
    "bad_feedbacks = ['Poor Customer Service', 'Poor Product Quality', 'Poor Website', 'Too many ads']\n",
    "neutral_feedbacks = ['No reason specified']\n",
    "\n",
    "data['membership_category'] = data['membership_category'].apply(lambda x: memberships.index(x))\n",
    "data['joined_through_referral'] = data['joined_through_referral'].apply(lambda x: joinded_through_ref.index(x))\n",
    "data['used_special_discount'] = data['used_special_discount'].apply(lambda x: used_special_discount.index(x))\n",
    "data['past_complaint'] = data['past_complaint'].apply(lambda x: past_complaint.index(x))\n",
    "data['complaint_status'] = data['complaint_status'].apply(lambda x: complaint_stat.index(x))\n",
    "data['feedback'] = data['feedback'].apply(lambda x: 2 if x in good_feedbacks else (0 if x in bad_feedbacks else (1)))\n",
    "\n",
    "\n",
    "data.head()"
   ]
  },
  {
   "cell_type": "markdown",
   "metadata": {},
   "source": [
    "### Export dataset"
   ]
  },
  {
   "cell_type": "code",
   "execution_count": null,
   "metadata": {},
   "outputs": [],
   "source": [
    "data.to_csv(PATH_TO_DATA + 'dataCleaned.csv', index=False)\n",
    "data.head()"
   ]
  },
  {
   "cell_type": "markdown",
   "metadata": {},
   "source": [
    "# Dataviz"
   ]
  },
  {
   "cell_type": "code",
   "execution_count": null,
   "metadata": {},
   "outputs": [],
   "source": [
    "data.dropna()\n",
    "alt.data_transformers.disable_max_rows()\n",
    "alt.Chart(data).mark_arc().encode(\n",
    "    color='region_category',\n",
    "    theta='mean(churn_risk_score)',\n",
    "    tooltip=['region_category', 'mean(churn_risk_score)']\n",
    ").properties(\n",
    "    title='Churn Risk Score by Region Category'\n",
    ")"
   ]
  },
  {
   "cell_type": "code",
   "execution_count": null,
   "metadata": {},
   "outputs": [],
   "source": [
    "alt.Chart(data).mark_line().encode(\n",
    "    x='year(joining_date)',\n",
    "    y='mean(churn_risk_score)',\n",
    ").properties(\n",
    "    width=300,\n",
    "    height=200,\n",
    "    title='Evolution of Churn Risk Score by Year'\n",
    ")"
   ]
  },
  {
   "cell_type": "code",
   "execution_count": null,
   "metadata": {},
   "outputs": [],
   "source": [
    "\n",
    "alt.Chart(data).mark_bar().encode(\n",
    "    x='preferred_offer_types',\n",
    "    y='mean(churn_risk_score)',\n",
    "    tooltip=['mean(churn_risk_score)', 'preferred_offer_types'],\n",
    "    color = alt.Color('preferred_offer_types')\n",
    "    \n",
    ").properties(\n",
    "    width=300,\n",
    "    height=400,\n",
    "    title='Average Churn Risk Score by Preferred Offer Types'\n",
    ")"
   ]
  },
  {
   "cell_type": "code",
   "execution_count": null,
   "metadata": {},
   "outputs": [],
   "source": [
    "alt.Chart(data0).mark_bar().encode(\n",
    "    alt.X('membership_category').sort('-y'),\n",
    "    y='mean(churn_risk_score)',\n",
    "    color = alt.Color('membership_category').sort('-y'),\n",
    "    tooltip=['mean(churn_risk_score)', 'membership_category']\n",
    ").properties(\n",
    "    width=300,\n",
    "    height=400,\n",
    "    title='Average Churn Risk Score by Membership Category'\n",
    ")"
   ]
  },
  {
   "cell_type": "code",
   "execution_count": null,
   "metadata": {},
   "outputs": [],
   "source": [
    "alt.Chart(data).mark_bar().encode(\n",
    "    alt.X('preferred_offer_types'),\n",
    "    y='mean(churn_risk_score)',\n",
    "    color = alt.Color('preferred_offer_types'),\n",
    "    tooltip=['mean(churn_risk_score)', 'preferred_offer_types']\n",
    ").properties(\n",
    "    width=300,\n",
    "    height=400,\n",
    "    title='Average Churn Risk Score by Preferred Offer Types'\n",
    ")"
   ]
  },
  {
   "cell_type": "code",
   "execution_count": null,
   "metadata": {},
   "outputs": [],
   "source": [
    "alt.Chart(data).mark_bar().encode(\n",
    "    alt.X('medium_of_operation'),\n",
    "    y='mean(churn_risk_score)',\n",
    "    tooltip=['mean(churn_risk_score)', 'medium_of_operation'],\n",
    "    color = alt.Color('medium_of_operation')\n",
    ").properties(\n",
    "    width=300,\n",
    "    height=400,\n",
    "    title='Average Churn Risk Score by Medium of Operation'\n",
    ")"
   ]
  },
  {
   "cell_type": "code",
   "execution_count": null,
   "metadata": {},
   "outputs": [],
   "source": [
    "alt.Chart(data0).mark_bar().encode(\n",
    "    x='age',\n",
    "    y='count()',\n",
    "    tooltip=['age', 'count()']\n",
    ").properties(\n",
    "    width=700,\n",
    "    height=300,\n",
    "    title='Age Distribution'\n",
    ")"
   ]
  },
  {
   "cell_type": "code",
   "execution_count": null,
   "metadata": {},
   "outputs": [],
   "source": [
    "alt.Chart(data).mark_bar().encode(\n",
    "    x='internet_option',\n",
    "    y='mean(churn_risk_score)',\n",
    "    tooltip=['mean(churn_risk_score)', 'internet_option'],\n",
    "    color = alt.Color('internet_option')\n",
    ").properties(\n",
    "    width=400,\n",
    "    height=300,\n",
    "    title='Average Churn Risk Score by Internet Option'\n",
    ")"
   ]
  },
  {
   "cell_type": "code",
   "execution_count": null,
   "metadata": {},
   "outputs": [],
   "source": [
    "alt.Chart(data).mark_bar().encode(\n",
    "    x='days_since_last_login',\n",
    "    y='mean(churn_risk_score)',\n",
    "    tooltip=['mean(churn_risk_score)', 'days_since_last_login'],\n",
    "    \n",
    ").properties(\n",
    "    width=400,\n",
    "    height=300,\n",
    "    title='Average Churn Risk Score by Days Since Last Login'\n",
    ")"
   ]
  },
  {
   "cell_type": "code",
   "execution_count": null,
   "metadata": {},
   "outputs": [],
   "source": [
    "data.head()"
   ]
  }
 ],
 "metadata": {
  "kernelspec": {
   "display_name": "Python 3",
   "language": "python",
   "name": "python3"
  },
  "language_info": {
   "codemirror_mode": {
    "name": "ipython",
    "version": 3
   },
   "file_extension": ".py",
   "mimetype": "text/x-python",
   "name": "python",
   "nbconvert_exporter": "python",
   "pygments_lexer": "ipython3",
   "version": "3.10.12"
  }
 },
 "nbformat": 4,
 "nbformat_minor": 2
}
