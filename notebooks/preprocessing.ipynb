{
 "cells": [
  {
   "cell_type": "code",
   "execution_count": null,
   "metadata": {},
   "outputs": [],
   "source": [
    "\n",
    "from pyspark.sql import SparkSession\n",
    "import warnings\n",
    "\n",
    "import pandas as pd\n",
    "from pyspark.sql.functions import max, min, avg, year, dayofyear, to_date, date_format, dayofweek, hour, month, length\n",
    "from pyspark.context import SparkContext as sc\n",
    "from pyspark.sql.types import StructField, StringType, StructType\n",
    "from pyspark.sql import SQLContext\n",
    "\n",
    "PATH_TO_DATA = \"../data/\"\n",
    "\n",
    "warnings.filterwarnings('ignore')\n",
    "\n",
    "spark=SparkSession.builder.master(\"local[*]\").appName(\"preprocessing\").config(\"spark.driver.memory\", \"16g\").getOrCreate()\n",
    "spark.sparkContext.setLogLevel(\"ERROR\")\n",
    "sqlContext = SQLContext(spark)\n",
    "\n",
    "#file to load is churn.csv in the same directory\n",
    "\n",
    "dataset = spark.read.option(\"header\", \"true\").option(\"inferSchema\", \"true\").csv(PATH_TO_DATA + \"churn.csv\")\n",
    "dataset.show(5)"
   ]
  },
  {
   "cell_type": "code",
   "execution_count": null,
   "metadata": {},
   "outputs": [],
   "source": [
    "#remove negative values from column 'days_since_last_login'\n",
    "\n",
    "dataset = dataset.filter(dataset['days_since_last_login'] > 0)\n",
    "dataset.show(5)"
   ]
  },
  {
   "cell_type": "code",
   "execution_count": null,
   "metadata": {},
   "outputs": [],
   "source": [
    "#remove rows with 'security_no' string length greater than 7\n",
    "\n",
    "\n",
    "dataset = dataset.filter(length(dataset['security_no']) <= 7)\n",
    "\n",
    "dataset.count()"
   ]
  },
  {
   "cell_type": "code",
   "execution_count": null,
   "metadata": {},
   "outputs": [],
   "source": [
    "#remove rows with avg_time_spent less than 0\n",
    "\n",
    "dataset = dataset.filter(dataset['avg_time_spent'] >= 0)\n",
    "dataset.count()"
   ]
  },
  {
   "cell_type": "code",
   "execution_count": null,
   "metadata": {},
   "outputs": [],
   "source": [
    "#remove rows with avg_frequency_login_days set to Error\n",
    "\n",
    "dataset = dataset.filter(dataset['avg_frequency_login_days'] != \"Error\")\n",
    "dataset.count()\n"
   ]
  },
  {
   "cell_type": "code",
   "execution_count": null,
   "metadata": {},
   "outputs": [],
   "source": [
    "#remove rows with points_in_wallet less or equal to 0\n",
    "\n",
    "dataset = dataset.filter(dataset['points_in_wallet'] > 0)\n",
    "dataset.count()"
   ]
  },
  {
   "cell_type": "code",
   "execution_count": null,
   "metadata": {},
   "outputs": [],
   "source": [
    "#remove rows with joined_through_referral set to ?\n",
    "\n",
    "dataset = dataset.filter(dataset['joined_through_referral'] != \"?\")\n",
    "dataset.count()\n",
    "\n",
    "#save the cleaned dataset to a new csv file\n",
    "\n",
    "dataset.write.csv(PATH_TO_DATA + \"dataCleaned.csv\", header=True)"
   ]
  }
 ],
 "metadata": {
  "kernelspec": {
   "display_name": "Python 3",
   "language": "python",
   "name": "python3"
  },
  "language_info": {
   "codemirror_mode": {
    "name": "ipython",
    "version": 3
   },
   "file_extension": ".py",
   "mimetype": "text/x-python",
   "name": "python",
   "nbconvert_exporter": "python",
   "pygments_lexer": "ipython3",
   "version": "3.10.12"
  }
 },
 "nbformat": 4,
 "nbformat_minor": 2
}
