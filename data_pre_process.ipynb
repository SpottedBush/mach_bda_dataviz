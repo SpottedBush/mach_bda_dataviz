{
 "cells": [
  {
   "cell_type": "code",
   "execution_count": 1,
   "metadata": {},
   "outputs": [
    {
     "name": "stderr",
     "output_type": "stream",
     "text": [
      "your 131072x1 screen size is bogus. expect trouble\n",
      "24/06/06 20:02:14 WARN Utils: Your hostname, DESKTOP-R8N4U8E resolves to a loopback address: 127.0.1.1; using 172.23.28.41 instead (on interface eth0)\n",
      "24/06/06 20:02:14 WARN Utils: Set SPARK_LOCAL_IP if you need to bind to another address\n",
      "Setting default log level to \"WARN\".\n",
      "To adjust logging level use sc.setLogLevel(newLevel). For SparkR, use setLogLevel(newLevel).\n",
      "24/06/06 20:02:16 WARN NativeCodeLoader: Unable to load native-hadoop library for your platform... using builtin-java classes where applicable\n"
     ]
    },
    {
     "name": "stdout",
     "output_type": "stream",
     "text": [
      "+---+------+-----------+---------------+-------------------+------------+-----------------------+-----------+---------------------+-------------------+---------------+-------------------+---------------------+--------------+---------------------+------------------------+----------------+---------------------+----------------------------+--------------+-------------------+--------------------+----------------+\n",
      "|age|gender|security_no|region_category|membership_category|joining_date|joined_through_referral|referral_id|preferred_offer_types|medium_of_operation|internet_option|    last_visit_time|days_since_last_login|avg_time_spent|avg_transaction_value|avg_frequency_login_days|points_in_wallet|used_special_discount|offer_application_preference|past_complaint|   complaint_status|            feedback|churn_risk_score|\n",
      "+---+------+-----------+---------------+-------------------+------------+-----------------------+-----------+---------------------+-------------------+---------------+-------------------+---------------------+--------------+---------------------+------------------------+----------------+---------------------+----------------------------+--------------+-------------------+--------------------+----------------+\n",
      "| 18|     F|    XW0DQ7H|        Village|Platinum Membership|  17-08-2017|                     No|   xxxxxxxx| Gift Vouchers/Cou...|                  ?|          Wi-Fi|2024-06-06 16:08:02|                   17|        300.63|             53005.25|                      17|          781.75|                  Yes|                         Yes|            No|     Not Applicable|Products always i...|               0|\n",
      "| 32|     F|    5K0N3X1|           City| Premium Membership|  28-08-2017|                      ?|   CID21329| Gift Vouchers/Cou...|            Desktop|    Mobile_Data|2024-06-06 12:38:13|                   16|        306.34|             12838.38|                      10|            NULL|                  Yes|                          No|           Yes|             Solved|Quality Customer ...|               0|\n",
      "| 44|     F|    1F2TCL3|           Town|      No Membership|  11-11-2016|                    Yes|   CID12313| Gift Vouchers/Cou...|            Desktop|          Wi-Fi|2024-06-06 22:53:21|                   14|        516.16|              21027.0|                      22|          500.69|                   No|                         Yes|           Yes|Solved in Follow-up|        Poor Website|               1|\n",
      "| 37|     M|    VJGJ33N|           City|      No Membership|  29-10-2016|                    Yes|    CID3793| Gift Vouchers/Cou...|            Desktop|    Mobile_Data|2024-06-06 15:57:50|                   11|         53.27|             25239.56|                       6|          567.66|                   No|                         Yes|           Yes|           Unsolved|        Poor Website|               1|\n",
      "| 31|     F|    SVZXCWB|           City|      No Membership|  12-09-2017|                     No|   xxxxxxxx| Credit/Debit Card...|         Smartphone|    Mobile_Data|2024-06-06 15:46:44|                   20|        113.13|             24483.66|                      16|          663.06|                   No|                         Yes|           Yes|             Solved|        Poor Website|               1|\n",
      "+---+------+-----------+---------------+-------------------+------------+-----------------------+-----------+---------------------+-------------------+---------------+-------------------+---------------------+--------------+---------------------+------------------------+----------------+---------------------+----------------------------+--------------+-------------------+--------------------+----------------+\n",
      "only showing top 5 rows\n",
      "\n"
     ]
    }
   ],
   "source": [
    "from pyspark.sql import SparkSession\n",
    "import warnings\n",
    "\n",
    "import pandas as pd\n",
    "from pyspark.sql.functions import max, min, avg, year, dayofyear, to_date, date_format, dayofweek, hour, month, length\n",
    "from pyspark.context import SparkContext as sc\n",
    "from pyspark.sql.types import StructField, StringType, StructType\n",
    "from pyspark.sql import SQLContext\n",
    "\n",
    "warnings.filterwarnings('ignore')\n",
    "\n",
    "spark=SparkSession.builder.master(\"local[*]\").appName(\"mach_bda_dataviz\").config(\"spark.driver.memory\", \"16g\").getOrCreate()\n",
    "spark.sparkContext.setLogLevel(\"ERROR\")\n",
    "sqlContext = SQLContext(spark)\n",
    "\n",
    "#file to load is churn.csv in the same directory\n",
    "\n",
    "dataset = spark.read.option(\"header\", \"true\").option(\"inferSchema\", \"true\").csv(\"churn.csv\")\n",
    "dataset.show(5)"
   ]
  },
  {
   "cell_type": "code",
   "execution_count": 2,
   "metadata": {},
   "outputs": [
    {
     "name": "stdout",
     "output_type": "stream",
     "text": [
      "+---+------+-----------+---------------+-------------------+------------+-----------------------+-----------+---------------------+-------------------+---------------+-------------------+---------------------+--------------+---------------------+------------------------+----------------+---------------------+----------------------------+--------------+-------------------+--------------------+----------------+\n",
      "|age|gender|security_no|region_category|membership_category|joining_date|joined_through_referral|referral_id|preferred_offer_types|medium_of_operation|internet_option|    last_visit_time|days_since_last_login|avg_time_spent|avg_transaction_value|avg_frequency_login_days|points_in_wallet|used_special_discount|offer_application_preference|past_complaint|   complaint_status|            feedback|churn_risk_score|\n",
      "+---+------+-----------+---------------+-------------------+------------+-----------------------+-----------+---------------------+-------------------+---------------+-------------------+---------------------+--------------+---------------------+------------------------+----------------+---------------------+----------------------------+--------------+-------------------+--------------------+----------------+\n",
      "| 18|     F|    XW0DQ7H|        Village|Platinum Membership|  17-08-2017|                     No|   xxxxxxxx| Gift Vouchers/Cou...|                  ?|          Wi-Fi|2024-06-06 16:08:02|                   17|        300.63|             53005.25|                      17|          781.75|                  Yes|                         Yes|            No|     Not Applicable|Products always i...|               0|\n",
      "| 32|     F|    5K0N3X1|           City| Premium Membership|  28-08-2017|                      ?|   CID21329| Gift Vouchers/Cou...|            Desktop|    Mobile_Data|2024-06-06 12:38:13|                   16|        306.34|             12838.38|                      10|            NULL|                  Yes|                          No|           Yes|             Solved|Quality Customer ...|               0|\n",
      "| 44|     F|    1F2TCL3|           Town|      No Membership|  11-11-2016|                    Yes|   CID12313| Gift Vouchers/Cou...|            Desktop|          Wi-Fi|2024-06-06 22:53:21|                   14|        516.16|              21027.0|                      22|          500.69|                   No|                         Yes|           Yes|Solved in Follow-up|        Poor Website|               1|\n",
      "| 37|     M|    VJGJ33N|           City|      No Membership|  29-10-2016|                    Yes|    CID3793| Gift Vouchers/Cou...|            Desktop|    Mobile_Data|2024-06-06 15:57:50|                   11|         53.27|             25239.56|                       6|          567.66|                   No|                         Yes|           Yes|           Unsolved|        Poor Website|               1|\n",
      "| 31|     F|    SVZXCWB|           City|      No Membership|  12-09-2017|                     No|   xxxxxxxx| Credit/Debit Card...|         Smartphone|    Mobile_Data|2024-06-06 15:46:44|                   20|        113.13|             24483.66|                      16|          663.06|                   No|                         Yes|           Yes|             Solved|        Poor Website|               1|\n",
      "+---+------+-----------+---------------+-------------------+------------+-----------------------+-----------+---------------------+-------------------+---------------+-------------------+---------------------+--------------+---------------------+------------------------+----------------+---------------------+----------------------------+--------------+-------------------+--------------------+----------------+\n",
      "only showing top 5 rows\n",
      "\n"
     ]
    }
   ],
   "source": [
    "#remove negative valies from column 'days_since_last_login'\n",
    "\n",
    "dataset = dataset.filter(dataset['days_since_last_login'] > 0)\n",
    "dataset.show(5)"
   ]
  },
  {
   "cell_type": "code",
   "execution_count": 3,
   "metadata": {},
   "outputs": [
    {
     "data": {
      "text/plain": [
       "34990"
      ]
     },
     "execution_count": 3,
     "metadata": {},
     "output_type": "execute_result"
    }
   ],
   "source": [
    "#remove rows with 'security_no' string length greater than 7\n",
    "#remove rows with 'security_no' string length less than 1\n",
    "\n",
    "\n",
    "dataset = dataset.filter(length(dataset['security_no']) <= 7)\n",
    "\n",
    "dataset.count()"
   ]
  },
  {
   "cell_type": "code",
   "execution_count": 4,
   "metadata": {},
   "outputs": [
    {
     "data": {
      "text/plain": [
       "33355"
      ]
     },
     "execution_count": 4,
     "metadata": {},
     "output_type": "execute_result"
    }
   ],
   "source": [
    "#remove rows with avg_time_spent less than 0\n",
    "\n",
    "dataset = dataset.filter(dataset['avg_time_spent'] >= 0)\n",
    "dataset.count()"
   ]
  },
  {
   "cell_type": "code",
   "execution_count": 5,
   "metadata": {},
   "outputs": [
    {
     "data": {
      "text/plain": [
       "30188"
      ]
     },
     "execution_count": 5,
     "metadata": {},
     "output_type": "execute_result"
    }
   ],
   "source": [
    "#remove rows with avg_frequency_login_days set to Error\n",
    "\n",
    "dataset = dataset.filter(dataset['avg_frequency_login_days'] != \"Error\")\n",
    "dataset.count()\n"
   ]
  },
  {
   "cell_type": "code",
   "execution_count": 6,
   "metadata": {},
   "outputs": [
    {
     "data": {
      "text/plain": [
       "27253"
      ]
     },
     "execution_count": 6,
     "metadata": {},
     "output_type": "execute_result"
    }
   ],
   "source": [
    "#remove rows with points_in_wallet less or equal to 0\n",
    "\n",
    "dataset = dataset.filter(dataset['points_in_wallet'] > 0)\n",
    "dataset.count()"
   ]
  },
  {
   "cell_type": "code",
   "execution_count": 7,
   "metadata": {},
   "outputs": [
    {
     "data": {
      "text/plain": [
       "23256"
      ]
     },
     "execution_count": 7,
     "metadata": {},
     "output_type": "execute_result"
    }
   ],
   "source": [
    "#remove rows with joined_through_referral set to ?\n",
    "\n",
    "dataset = dataset.filter(dataset['joined_through_referral'] != \"?\")\n",
    "dataset.count()\n",
    "\n",
    "#save the cleaned dataset to a new csv file\n",
    "\n",
    "dataset.write.csv(\"dataCleaned.csv\", header=True)"
   ]
  }
 ],
 "metadata": {
  "kernelspec": {
   "display_name": "Python 3",
   "language": "python",
   "name": "python3"
  },
  "language_info": {
   "codemirror_mode": {
    "name": "ipython",
    "version": 3
   },
   "file_extension": ".py",
   "mimetype": "text/x-python",
   "name": "python",
   "nbconvert_exporter": "python",
   "pygments_lexer": "ipython3",
   "version": "3.10.12"
  }
 },
 "nbformat": 4,
 "nbformat_minor": 2
}
